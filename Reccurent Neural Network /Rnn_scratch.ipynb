{
 "cells": [
  {
   "cell_type": "code",
   "execution_count": 3,
   "metadata": {},
   "outputs": [],
   "source": [
    "import pandas as pd\n",
    "import numpy as np \n",
    "import torch \n",
    "from torch import nn"
   ]
  },
  {
   "cell_type": "code",
   "execution_count": 25,
   "metadata": {},
   "outputs": [],
   "source": [
    "class RNN():\n",
    "    def __init__(self, input_size, hidden_size, output_size):\n",
    "        self.input_size = input_size\n",
    "        self.hidden_size = hidden_size\n",
    "        self.output_size = output_size\n",
    "        \n",
    "        # initialize weights\n",
    "        self.wx = np.random.rand(hidden_size, input_size) * 0.01   # Input to hidden\n",
    "        self.wh = np.random.rand(hidden_size, hidden_size) * 0.01  # Hidden to hidden\n",
    "        self.wy = np.random.rand(output_size, hidden_size) * 0.01  # Hidden to output\n",
    "        \n",
    "        self.bh = np.zeros((hidden_size, 1))\n",
    "        self.by = np.zeros((output_size, 1))\n",
    "    \n",
    "    def time_step(self, x, h_sebelumnya):\n",
    "        \"\"\"\n",
    "        x = input pada saat t saat ini\n",
    "        h_sebelumnya = nilai hidden state dari time step sebelumnya\n",
    "        \"\"\"\n",
    "        h_now = np.tanh(np.dot(self.wx, x.T) + np.dot(self.wh, h_sebelumnya) + self.bh)\n",
    "        y = np.dot(self.wy, h_now) + self.by\n",
    "        return h_now, y\n",
    "        \n",
    "    def forward(self, inputs):\n",
    "        hidden_states, outputs = [], []\n",
    "        h_curr = np.zeros((self.wh.shape[0], 1))\n",
    "        \n",
    "        for x in inputs:\n",
    "            h_curr, y_curr = self.time_step(x, h_curr)\n",
    "            hidden_states.append(h_curr)\n",
    "            outputs.append(y_curr)\n",
    "            \n",
    "        return hidden_states, outputs"
   ]
  },
  {
   "cell_type": "code",
   "execution_count": null,
   "metadata": {},
   "outputs": [
    {
     "name": "stdout",
     "output_type": "stream",
     "text": [
      "Input sequence shape: 4\n",
      "First input sample: [[0.16073052 0.67654444 0.30659772]]\n",
      "First output: [[0.00013116]\n",
      " [0.00015027]]\n"
     ]
    }
   ],
   "source": [
    "input_size = 3    \n",
    "hidden_size = 5 \n",
    "output_size = 2\n",
    "\n",
    "rnn = RNN(input_size, hidden_size, output_size)\n",
    "\n",
    "# Create input sequence\n",
    "sequence_length = 4\n",
    "input_sequence = []\n",
    "\n",
    "for _ in range(sequence_length):\n",
    "    # Create a random input vector of size input_size\n",
    "    input_vector = np.random.rand(1, input_size)  \n",
    "    input_sequence.append(input_vector)\n",
    "\n",
    "# Forward pass\n",
    "hidden_states, outputs = rnn.forward(input_sequence)\n",
    "\n",
    "print(\"Input sequence shape:\", len(input_sequence))\n",
    "print(\"First input sample:\", input_sequence[0])\n",
    "print(\"First output:\", outputs[0])"
   ]
  }
 ],
 "metadata": {
  "kernelspec": {
   "display_name": "torchgpu",
   "language": "python",
   "name": "python3"
  },
  "language_info": {
   "codemirror_mode": {
    "name": "ipython",
    "version": 3
   },
   "file_extension": ".py",
   "mimetype": "text/x-python",
   "name": "python",
   "nbconvert_exporter": "python",
   "pygments_lexer": "ipython3",
   "version": "3.10.12"
  }
 },
 "nbformat": 4,
 "nbformat_minor": 2
}
