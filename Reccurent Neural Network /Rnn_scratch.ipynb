{
 "cells": [
  {
   "cell_type": "code",
   "execution_count": 1,
   "metadata": {},
   "outputs": [],
   "source": [
    "import pandas as pd\n",
    "import numpy as np \n",
    "import torch \n",
    "from torch import nn"
   ]
  },
  {
   "cell_type": "code",
   "execution_count": 4,
   "metadata": {},
   "outputs": [],
   "source": [
    "class RNN() : \n",
    "    def __init__(self,input_size, hidden_size, output_size):\n",
    "        self.input_size = input_size\n",
    "        self.hidden_size = hidden_size\n",
    "        self.output_size = output_size\n",
    "\n",
    "        # inisialisasi weights\n",
    "        self.wx = np.random.rand(hidden_size, input_size) * 0.01 # Input to hidden\n",
    "        self.wh = np.random.rand(hidden_size, hidden_size) * 0.01 # hidden to hidden\n",
    "        self.wy = np.random.rand(hidden_size,hidden_size) * 0.01 # hidden to output\n",
    "\n",
    "        self.bh = np.zeros((hidden_size), 1)\n",
    "        self.by = np.zeros((output_size),1)\n",
    "\n",
    "    def time_step(self, x, h_sebelumnya):\n",
    "       \n",
    "       \"\"\"\n",
    "       x = input pada saat t saat ini \n",
    "       h_sebelumnya = nilai hidden state dari time step sebelumnya\n",
    "\n",
    "       \"\"\"\n",
    "       h_now = np.tanh(np.dot(self.wx,x.T) + np.dot(self.wh, h_sebelumnya) + self.bh) \n",
    "       y = np.dot(self.wy, h_now) + self.by\n",
    "       return h_now, y\n",
    "\n",
    "    \n",
    "    def forward(self, inputs):\n",
    "        hidden_states, outputs = [], []\n",
    "        h_curr = np.zeros((self.Wh.shape[0], 1))\n",
    "\n",
    "        for x in inputs:\n",
    "            h_curr, y_curr = self.timestep_forward(x, h_curr)\n",
    "            hidden_states.append(h_curr)\n",
    "            outputs.append(y_curr)\n",
    "\n",
    "        return hidden_states, outputs"
   ]
  }
 ],
 "metadata": {
  "kernelspec": {
   "display_name": "torchgpu",
   "language": "python",
   "name": "python3"
  },
  "language_info": {
   "codemirror_mode": {
    "name": "ipython",
    "version": 3
   },
   "file_extension": ".py",
   "mimetype": "text/x-python",
   "name": "python",
   "nbconvert_exporter": "python",
   "pygments_lexer": "ipython3",
   "version": "3.10.12"
  }
 },
 "nbformat": 4,
 "nbformat_minor": 2
}
